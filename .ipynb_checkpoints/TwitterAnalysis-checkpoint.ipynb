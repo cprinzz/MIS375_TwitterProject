{
 "cells": [
  {
   "cell_type": "code",
   "execution_count": null,
   "metadata": {
    "collapsed": false
   },
   "outputs": [
    {
     "name": "stdout",
     "output_type": "stream",
     "text": [
      "Populating the interactive namespace from numpy and matplotlib\n"
     ]
    },
    {
     "data": {
      "text/plain": [
       "<matplotlib.axes._subplots.AxesSubplot at 0x113ef48d0>"
      ]
     },
     "execution_count": 10,
     "metadata": {},
     "output_type": "execute_result"
    }
   ],
   "source": [
    "import pandas as pd\n",
    "from pandas import DataFrame\n",
    "from pandas import Series\n",
    "import re\n",
    "import matplotlib\n",
    "import matplotlib.pyplot as plt\n",
    "%pylab inline\n",
    "\n",
    "s1 = Series.from_csv('/Users/cprinz/Developer/MIS375_TwitterProject/fakenews_2-25.csv')\n",
    "s2 = Series.from_csv('/Users/cprinz/Developer/MIS375_TwitterProject/fakenews_2-26.csv')\n",
    "s3 = Series.from_csv('/Users/cprinz/Developer/MIS375_TwitterProject/fakenews_2-27.csv')\n",
    "s4 = Series.from_csv('/Users/cprinz/Developer/MIS375_TwitterProject/fakenews_2-28.csv')\n",
    "\n",
    "all_tweets = pd.concat([s1,s2,s3,s4])\n",
    "\n",
    "twitter_handle_re = re.compile(r'@([A-Za-z0-9_]+)')\n",
    "\n",
    "mention_counts = Series()\n",
    "for item in all_tweets:\n",
    "    mentions = twitter_handle_re.findall(item)\n",
    "    for mention in mentions:\n",
    "        if mention in mention_counts.keys():\n",
    "            mention_counts[mention] += 1\n",
    "        else:\n",
    "            mention_counts[mention] = 1\n",
    "\n",
    "mention_counts.sort_values(inplace = True, ascending = False)\n",
    "#print mention_counts\n",
    "\n",
    "mention_counts.plot(kind=\"bar\").show()\n"
   ]
  }
 ],
 "metadata": {
  "kernelspec": {
   "display_name": "Python [conda root]",
   "language": "python",
   "name": "conda-root-py"
  },
  "language_info": {
   "codemirror_mode": {
    "name": "ipython",
    "version": 2
   },
   "file_extension": ".py",
   "mimetype": "text/x-python",
   "name": "python",
   "nbconvert_exporter": "python",
   "pygments_lexer": "ipython2",
   "version": "2.7.9"
  }
 },
 "nbformat": 4,
 "nbformat_minor": 1
}
